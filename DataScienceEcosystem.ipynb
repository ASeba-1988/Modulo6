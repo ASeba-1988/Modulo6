{
 "cells": [
  {
   "cell_type": "markdown",
   "id": "62087aaa-e47b-427c-bc96-7745736761a9",
   "metadata": {},
   "source": [
    "Data Science Tools and Ecosystem"
   ]
  },
  {
   "cell_type": "markdown",
   "id": "1dcca444-0b54-4864-a19e-8406d866b80f",
   "metadata": {},
   "source": [
    "# Excercise 3: Create a markdown cell to a introduction\n",
    "In this notebook, Data Science Tools and Ecosystem are summarized."
   ]
  },
  {
   "cell_type": "markdown",
   "id": "85a40abd-0394-4d0f-a81f-0128d93dff95",
   "metadata": {},
   "source": [
    "**Objectives:**\n",
    "- List popular languages for Data Science\n",
    "- Describe common libraries used in Data Science\n",
    "- Explain development environments used in Data Science\n",
    "- Summarize key tools and frameworks in the Data Science ecosystem"
   ]
  },
  {
   "cell_type": "markdown",
   "id": "589a3a07-5b92-474d-b646-762fdb49fb46",
   "metadata": {},
   "source": [
    "# Excercise 4: create a markdown cell to list data science languages\n",
    "Some of the languages ​​most used by data scientists are:"
   ]
  },
  {
   "cell_type": "markdown",
   "id": "84dd9dcb-9303-4632-9176-b09917768a61",
   "metadata": {},
   "source": [
    "# Excercise 5: create a markdown cellto list data science libraries\n",
    "Among the libraries frequently used by data scientists are:\n",
    "ordered list:\n",
    "1. Panda\n",
    "2. TensorFlow\n",
    "3. Numpy\n"
   ]
  },
  {
   "cell_type": "markdown",
   "id": "6c7101a4-70a3-4062-a88f-5c2f8002a0c3",
   "metadata": {},
   "source": [
    "# Exercise 6: Create a Markdown Cell with a Data Science Tools Table\n",
    "Data Science Tools:\n",
    "| Jupyter Notebook | RStudio | VS Code | "
   ]
  },
  {
   "cell_type": "markdown",
   "id": "8984e7d3-be53-4b6e-821f-350e80a84df8",
   "metadata": {},
   "source": [
    "# Exercise 7: Create a Markdown cell that presents examples of arithmetic expressions\n",
    "### Below are some examples of how to evaluate arithmetic expressions in Python"
   ]
  },
  {
   "cell_type": "code",
   "execution_count": 2,
   "id": "ff248289-bd3a-4a0c-8d9c-5ba858022a1f",
   "metadata": {},
   "outputs": [
    {
     "data": {
      "text/plain": [
       "17"
      ]
     },
     "execution_count": 2,
     "metadata": {},
     "output_type": "execute_result"
    }
   ],
   "source": [
    "(3*4)+5\n",
    "\n"
   ]
  },
  {
   "cell_type": "markdown",
   "id": "7f40c240-ddad-4565-91ff-32e1f4bb0c80",
   "metadata": {},
   "source": [
    "This is a basic arithmetic expression that first multiplies and then adds whole numbers"
   ]
  },
  {
   "cell_type": "code",
   "execution_count": 3,
   "id": "148d9774-a631-4524-98b2-34e4cf6b399d",
   "metadata": {},
   "outputs": [
    {
     "data": {
      "text/plain": [
       "3.3333333333333335"
      ]
     },
     "execution_count": 3,
     "metadata": {},
     "output_type": "execute_result"
    }
   ],
   "source": [
    "200/60"
   ]
  },
  {
   "cell_type": "markdown",
   "id": "05bf9b24-c09a-460e-bf79-27413b7a91d2",
   "metadata": {},
   "source": [
    "This will convert 200 minutes to hours by dividing by 60"
   ]
  },
  {
   "cell_type": "markdown",
   "id": "eefc7e36-5650-41b6-a6f1-92eb4aaf7d5c",
   "metadata": {},
   "source": [
    "## Author\n",
    "Atilio Sebastián Saldías Valdivia"
   ]
  }
 ],
 "metadata": {
  "kernelspec": {
   "display_name": "Python 3 (ipykernel)",
   "language": "python",
   "name": "python3"
  },
  "language_info": {
   "codemirror_mode": {
    "name": "ipython",
    "version": 3
   },
   "file_extension": ".py",
   "mimetype": "text/x-python",
   "name": "python",
   "nbconvert_exporter": "python",
   "pygments_lexer": "ipython3",
   "version": "3.11.9"
  }
 },
 "nbformat": 4,
 "nbformat_minor": 5
}
